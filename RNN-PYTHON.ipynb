{
 "cells": [
  {
   "cell_type": "code",
   "execution_count": 1,
   "metadata": {},
   "outputs": [],
   "source": [
    "# Importing the libraries\n",
    "import numpy as np\n",
    "import matplotlib.pyplot as plt\n",
    "import pandas as pd"
   ]
  },
  {
   "cell_type": "code",
   "execution_count": 2,
   "metadata": {},
   "outputs": [],
   "source": [
    "# Importing the training set\n",
    "dataset_train = pd.read_csv('Google_Stock_Price_Train.csv')\n",
    "training_set = dataset_train.iloc[:, 1:2].values\n"
   ]
  },
  {
   "cell_type": "code",
   "execution_count": 3,
   "metadata": {},
   "outputs": [],
   "source": [
    "# Feature Scaling\n",
    "from sklearn.preprocessing import MinMaxScaler\n",
    "sc = MinMaxScaler(feature_range = (0, 1))\n",
    "training_set_scaled = sc.fit_transform(training_set)"
   ]
  },
  {
   "cell_type": "code",
   "execution_count": 4,
   "metadata": {},
   "outputs": [],
   "source": [
    "# Creating a data structure with 60 timesteps and 1 output\n",
    "X_train = []\n",
    "y_train = []\n",
    "for i in range(60, 1258):\n",
    "    X_train.append(training_set_scaled[i-60:i, 0])\n",
    "    y_train.append(training_set_scaled[i, 0])\n",
    "X_train, y_train = np.array(X_train), np.array(y_train)"
   ]
  },
  {
   "cell_type": "code",
   "execution_count": 5,
   "metadata": {},
   "outputs": [],
   "source": [
    "# Reshaping\n",
    "X_train = np.reshape(X_train, (X_train.shape[0], X_train.shape[1], 1))"
   ]
  },
  {
   "cell_type": "code",
   "execution_count": 7,
   "metadata": {},
   "outputs": [],
   "source": [
    "# Building the RNN\n",
    "\n",
    "# Importing the Keras libraries and packages\n",
    "from keras.models import Sequential\n",
    "from keras.layers import Dense\n",
    "from keras.layers import LSTM\n",
    "from keras.layers import Dropout"
   ]
  },
  {
   "cell_type": "code",
   "execution_count": 8,
   "metadata": {},
   "outputs": [],
   "source": [
    "# Initialising the RNN\n",
    "regressor = Sequential()"
   ]
  },
  {
   "cell_type": "code",
   "execution_count": 9,
   "metadata": {},
   "outputs": [],
   "source": [
    "# Adding the first LSTM layer and some Dropout regularisation\n",
    "regressor.add(LSTM(units = 50, return_sequences = True, input_shape = (X_train.shape[1], 1)))\n",
    "regressor.add(Dropout(0.2))"
   ]
  },
  {
   "cell_type": "code",
   "execution_count": 10,
   "metadata": {},
   "outputs": [],
   "source": [
    "# Adding a second LSTM layer and some Dropout regularisation\n",
    "regressor.add(LSTM(units = 50, return_sequences = True))\n",
    "regressor.add(Dropout(0.2))"
   ]
  },
  {
   "cell_type": "code",
   "execution_count": 11,
   "metadata": {},
   "outputs": [],
   "source": [
    "# Adding a third LSTM layer and some Dropout regularisation\n",
    "regressor.add(LSTM(units = 50, return_sequences = True))\n",
    "regressor.add(Dropout(0.2))"
   ]
  },
  {
   "cell_type": "code",
   "execution_count": 12,
   "metadata": {},
   "outputs": [],
   "source": [
    "# Adding a fourth LSTM layer and some Dropout regularisation\n",
    "regressor.add(LSTM(units = 50))\n",
    "regressor.add(Dropout(0.2))"
   ]
  },
  {
   "cell_type": "code",
   "execution_count": 13,
   "metadata": {},
   "outputs": [],
   "source": [
    "# Adding the output layer\n",
    "regressor.add(Dense(units = 1))"
   ]
  },
  {
   "cell_type": "code",
   "execution_count": 14,
   "metadata": {},
   "outputs": [],
   "source": [
    "# Compiling the RNN\n",
    "regressor.compile(optimizer = 'adam', loss = 'mean_squared_error')"
   ]
  },
  {
   "cell_type": "code",
   "execution_count": 15,
   "metadata": {},
   "outputs": [
    {
     "name": "stdout",
     "output_type": "stream",
     "text": [
      "Epoch 1/100\n",
      "38/38 [==============================] - 10s 97ms/step - loss: 0.0449\n",
      "Epoch 2/100\n",
      "38/38 [==============================] - 3s 85ms/step - loss: 0.0068\n",
      "Epoch 3/100\n",
      "38/38 [==============================] - 3s 84ms/step - loss: 0.0059\n",
      "Epoch 4/100\n",
      "38/38 [==============================] - 3s 86ms/step - loss: 0.0056\n",
      "Epoch 5/100\n",
      "38/38 [==============================] - 4s 93ms/step - loss: 0.0053\n",
      "Epoch 6/100\n",
      "38/38 [==============================] - 4s 113ms/step - loss: 0.0050\n",
      "Epoch 7/100\n",
      "38/38 [==============================] - 3s 87ms/step - loss: 0.0046\n",
      "Epoch 8/100\n",
      "38/38 [==============================] - 3s 67ms/step - loss: 0.0052\n",
      "Epoch 9/100\n",
      "38/38 [==============================] - 3s 67ms/step - loss: 0.0044\n",
      "Epoch 10/100\n",
      "38/38 [==============================] - 3s 67ms/step - loss: 0.0043\n",
      "Epoch 11/100\n",
      "38/38 [==============================] - 3s 69ms/step - loss: 0.0041\n",
      "Epoch 12/100\n",
      "38/38 [==============================] - 3s 68ms/step - loss: 0.0046\n",
      "Epoch 13/100\n",
      "38/38 [==============================] - 3s 74ms/step - loss: 0.0039\n",
      "Epoch 14/100\n",
      "38/38 [==============================] - 3s 82ms/step - loss: 0.0040\n",
      "Epoch 15/100\n",
      "38/38 [==============================] - 3s 84ms/step - loss: 0.0040\n",
      "Epoch 16/100\n",
      "38/38 [==============================] - 3s 82ms/step - loss: 0.0035\n",
      "Epoch 17/100\n",
      "38/38 [==============================] - 3s 82ms/step - loss: 0.0039\n",
      "Epoch 18/100\n",
      "38/38 [==============================] - 3s 84ms/step - loss: 0.0037\n",
      "Epoch 19/100\n",
      "38/38 [==============================] - 3s 88ms/step - loss: 0.0039\n",
      "Epoch 20/100\n",
      "38/38 [==============================] - 4s 97ms/step - loss: 0.0031\n",
      "Epoch 21/100\n",
      "38/38 [==============================] - 3s 83ms/step - loss: 0.0031\n",
      "Epoch 22/100\n",
      "38/38 [==============================] - 3s 91ms/step - loss: 0.0034\n",
      "Epoch 23/100\n",
      "38/38 [==============================] - 3s 89ms/step - loss: 0.0034\n",
      "Epoch 24/100\n",
      "38/38 [==============================] - 3s 83ms/step - loss: 0.0031\n",
      "Epoch 25/100\n",
      "38/38 [==============================] - 3s 85ms/step - loss: 0.0032\n",
      "Epoch 26/100\n",
      "38/38 [==============================] - 3s 92ms/step - loss: 0.0031\n",
      "Epoch 27/100\n",
      "38/38 [==============================] - 3s 86ms/step - loss: 0.0032\n",
      "Epoch 28/100\n",
      "38/38 [==============================] - 3s 89ms/step - loss: 0.0035\n",
      "Epoch 29/100\n",
      " 8/38 [=====>........................] - ETA: 3s - loss: 0.0031"
     ]
    }
   ],
   "source": [
    "# Fitting the RNN to the Training set\n",
    "regressor.fit(X_train, y_train, epochs = 100, batch_size = 32)"
   ]
  },
  {
   "cell_type": "code",
   "execution_count": null,
   "metadata": {},
   "outputs": [],
   "source": []
  }
 ],
 "metadata": {
  "kernelspec": {
   "display_name": "Python 3",
   "language": "python",
   "name": "python3"
  },
  "language_info": {
   "codemirror_mode": {
    "name": "ipython",
    "version": 3
   },
   "file_extension": ".py",
   "mimetype": "text/x-python",
   "name": "python",
   "nbconvert_exporter": "python",
   "pygments_lexer": "ipython3",
   "version": "3.10.4"
  },
  "orig_nbformat": 4
 },
 "nbformat": 4,
 "nbformat_minor": 2
}
